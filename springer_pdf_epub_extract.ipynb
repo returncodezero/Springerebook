{
 "cells": [
  {
   "cell_type": "markdown",
   "metadata": {},
   "source": [
    "# List of Libraries"
   ]
  },
  {
   "cell_type": "code",
   "execution_count": 37,
   "metadata": {
    "colab": {},
    "colab_type": "code",
    "id": "hNmuf3f6jJew"
   },
   "outputs": [
    {
     "name": "stdout",
     "output_type": "stream",
     "text": [
      "1.0.3\n",
      "1.2.0\n"
     ]
    }
   ],
   "source": [
    "import urllib.request \n",
    "import pandas as pd\n",
    "print(pd.__version__)\n",
    "import xlrd\n",
    "print(xlrd.__VERSION__)\n",
    "import datetime\n",
    "import progressbar\n",
    "import requests\n"
   ]
  },
  {
   "cell_type": "markdown",
   "metadata": {},
   "source": [
    "# variable declaration"
   ]
  },
  {
   "cell_type": "code",
   "execution_count": 38,
   "metadata": {
    "colab": {},
    "colab_type": "code",
    "collapsed": true,
    "id": "wkOM-ep6jJfe"
   },
   "outputs": [],
   "source": [
    "homeUrl = \"https://link.springer.com\""
   ]
  },
  {
   "cell_type": "markdown",
   "metadata": {},
   "source": [
    "# Function to get the pdf/epub link from the baseUrl"
   ]
  },
  {
   "cell_type": "code",
   "execution_count": 39,
   "metadata": {
    "colab": {},
    "colab_type": "code",
    "collapsed": true,
    "id": "EryRHSSsjJgK"
   },
   "outputs": [],
   "source": [
    "def getpdfepubUrl(openUrl):\n",
    "    split = openUrl.split(\"/\")\n",
    "    isbn = split[-1]\n",
    "    pdfUrl = homeUrl + \"/content/pdf/\" + isbn + \".pdf\"\n",
    "    epubUrl = homeUrl + \"/download/epub/\" + isbn + \".epub\"\n",
    "    return(pdfUrl,epubUrl)\n",
    "    \n",
    "    "
   ]
  },
  {
   "cell_type": "markdown",
   "metadata": {},
   "source": [
    "# Read excel file - Sheet name - downloadpath (this has the folder name for download"
   ]
  },
  {
   "cell_type": "code",
   "execution_count": 40,
   "metadata": {
    "collapsed": true
   },
   "outputs": [],
   "source": [
    "read_df_path = pd.read_excel('Springer_ebook_list.xlsx',\n",
    "              sheet_name='downloadpath')"
   ]
  },
  {
   "cell_type": "code",
   "execution_count": 41,
   "metadata": {},
   "outputs": [
    {
     "name": "stdout",
     "output_type": "stream",
     "text": [
      "/Users/G_office/Downloads/springer/\n"
     ]
    }
   ],
   "source": [
    "dest_path = read_df_path['Download_Destination'].iloc[0]\n",
    "\n",
    "print(dest_path)"
   ]
  },
  {
   "cell_type": "markdown",
   "metadata": {},
   "source": [
    "# Read excel file - Sheet name  - booklist"
   ]
  },
  {
   "cell_type": "code",
   "execution_count": 42,
   "metadata": {
    "collapsed": true
   },
   "outputs": [],
   "source": [
    "read_df_book = pd.read_excel('Springer_ebook_list.xlsx',\n",
    "              sheet_name='booklist')"
   ]
  },
  {
   "cell_type": "code",
   "execution_count": 43,
   "metadata": {
    "collapsed": true
   },
   "outputs": [],
   "source": [
    "#Select those books with has download set as Y or y\n",
    "options=['Y','y']\n",
    "download_df = read_df_book[read_df_book['Download(Y/N)'].isin(options)]"
   ]
  },
  {
   "cell_type": "code",
   "execution_count": 44,
   "metadata": {},
   "outputs": [
    {
     "data": {
      "text/html": [
       "<div>\n",
       "<style scoped>\n",
       "    .dataframe tbody tr th:only-of-type {\n",
       "        vertical-align: middle;\n",
       "    }\n",
       "\n",
       "    .dataframe tbody tr th {\n",
       "        vertical-align: top;\n",
       "    }\n",
       "\n",
       "    .dataframe thead th {\n",
       "        text-align: right;\n",
       "    }\n",
       "</style>\n",
       "<table border=\"1\" class=\"dataframe\">\n",
       "  <thead>\n",
       "    <tr style=\"text-align: right;\">\n",
       "      <th></th>\n",
       "      <th>S.No.</th>\n",
       "      <th>Book_Title</th>\n",
       "      <th>Download(Y/N)</th>\n",
       "      <th>Author</th>\n",
       "      <th>Edition</th>\n",
       "      <th>OpenURL</th>\n",
       "    </tr>\n",
       "  </thead>\n",
       "  <tbody>\n",
       "    <tr>\n",
       "      <th>55</th>\n",
       "      <td>56</td>\n",
       "      <td>Microeconomics</td>\n",
       "      <td>y</td>\n",
       "      <td>Peter Dorman</td>\n",
       "      <td>2014</td>\n",
       "      <td>http://link.springer.com/openurl?genre=book&amp;is...</td>\n",
       "    </tr>\n",
       "    <tr>\n",
       "      <th>99</th>\n",
       "      <td>100</td>\n",
       "      <td>Computer Vision</td>\n",
       "      <td>Y</td>\n",
       "      <td>Richard Szeliski</td>\n",
       "      <td>2011</td>\n",
       "      <td>http://link.springer.com/openurl?genre=book&amp;is...</td>\n",
       "    </tr>\n",
       "  </tbody>\n",
       "</table>\n",
       "</div>"
      ],
      "text/plain": [
       "    S.No.       Book_Title Download(Y/N)            Author Edition  \\\n",
       "55     56   Microeconomics             y      Peter Dorman    2014   \n",
       "99    100  Computer Vision             Y  Richard Szeliski    2011   \n",
       "\n",
       "                                              OpenURL  \n",
       "55  http://link.springer.com/openurl?genre=book&is...  \n",
       "99  http://link.springer.com/openurl?genre=book&is...  "
      ]
     },
     "execution_count": 44,
     "metadata": {},
     "output_type": "execute_result"
    }
   ],
   "source": [
    "download_df"
   ]
  },
  {
   "cell_type": "code",
   "execution_count": 45,
   "metadata": {},
   "outputs": [
    {
     "name": "stderr",
     "output_type": "stream",
     "text": [
      "C:\\ProgramData\\Anaconda3\\lib\\site-packages\\ipykernel_launcher.py:1: SettingWithCopyWarning: \n",
      "A value is trying to be set on a copy of a slice from a DataFrame.\n",
      "Try using .loc[row_indexer,col_indexer] = value instead\n",
      "\n",
      "See the caveats in the documentation: https://pandas.pydata.org/pandas-docs/stable/user_guide/indexing.html#returning-a-view-versus-a-copy\n",
      "  \"\"\"Entry point for launching an IPython kernel.\n"
     ]
    }
   ],
   "source": [
    "download_df['Book_Title'] = download_df['Book_Title'].str.replace(' ','_')"
   ]
  },
  {
   "cell_type": "code",
   "execution_count": 46,
   "metadata": {},
   "outputs": [
    {
     "data": {
      "text/html": [
       "<div>\n",
       "<style scoped>\n",
       "    .dataframe tbody tr th:only-of-type {\n",
       "        vertical-align: middle;\n",
       "    }\n",
       "\n",
       "    .dataframe tbody tr th {\n",
       "        vertical-align: top;\n",
       "    }\n",
       "\n",
       "    .dataframe thead th {\n",
       "        text-align: right;\n",
       "    }\n",
       "</style>\n",
       "<table border=\"1\" class=\"dataframe\">\n",
       "  <thead>\n",
       "    <tr style=\"text-align: right;\">\n",
       "      <th></th>\n",
       "      <th>S.No.</th>\n",
       "      <th>Book_Title</th>\n",
       "      <th>Download(Y/N)</th>\n",
       "      <th>Author</th>\n",
       "      <th>Edition</th>\n",
       "      <th>OpenURL</th>\n",
       "    </tr>\n",
       "  </thead>\n",
       "  <tbody>\n",
       "    <tr>\n",
       "      <th>55</th>\n",
       "      <td>56</td>\n",
       "      <td>Microeconomics</td>\n",
       "      <td>y</td>\n",
       "      <td>Peter Dorman</td>\n",
       "      <td>2014</td>\n",
       "      <td>http://link.springer.com/openurl?genre=book&amp;is...</td>\n",
       "    </tr>\n",
       "    <tr>\n",
       "      <th>99</th>\n",
       "      <td>100</td>\n",
       "      <td>Computer_Vision</td>\n",
       "      <td>Y</td>\n",
       "      <td>Richard Szeliski</td>\n",
       "      <td>2011</td>\n",
       "      <td>http://link.springer.com/openurl?genre=book&amp;is...</td>\n",
       "    </tr>\n",
       "  </tbody>\n",
       "</table>\n",
       "</div>"
      ],
      "text/plain": [
       "    S.No.       Book_Title Download(Y/N)            Author Edition  \\\n",
       "55     56   Microeconomics             y      Peter Dorman    2014   \n",
       "99    100  Computer_Vision             Y  Richard Szeliski    2011   \n",
       "\n",
       "                                              OpenURL  \n",
       "55  http://link.springer.com/openurl?genre=book&is...  \n",
       "99  http://link.springer.com/openurl?genre=book&is...  "
      ]
     },
     "execution_count": 46,
     "metadata": {},
     "output_type": "execute_result"
    }
   ],
   "source": [
    "download_df"
   ]
  },
  {
   "cell_type": "code",
   "execution_count": 47,
   "metadata": {},
   "outputs": [
    {
     "data": {
      "text/html": [
       "<div>\n",
       "<style scoped>\n",
       "    .dataframe tbody tr th:only-of-type {\n",
       "        vertical-align: middle;\n",
       "    }\n",
       "\n",
       "    .dataframe tbody tr th {\n",
       "        vertical-align: top;\n",
       "    }\n",
       "\n",
       "    .dataframe thead th {\n",
       "        text-align: right;\n",
       "    }\n",
       "</style>\n",
       "<table border=\"1\" class=\"dataframe\">\n",
       "  <thead>\n",
       "    <tr style=\"text-align: right;\">\n",
       "      <th></th>\n",
       "      <th>S.No.</th>\n",
       "      <th>Book_Title</th>\n",
       "      <th>Download(Y/N)</th>\n",
       "      <th>Author</th>\n",
       "      <th>Edition</th>\n",
       "      <th>OpenURL</th>\n",
       "    </tr>\n",
       "  </thead>\n",
       "  <tbody>\n",
       "    <tr>\n",
       "      <th>0</th>\n",
       "      <td>56</td>\n",
       "      <td>Microeconomics</td>\n",
       "      <td>y</td>\n",
       "      <td>Peter Dorman</td>\n",
       "      <td>2014</td>\n",
       "      <td>http://link.springer.com/openurl?genre=book&amp;is...</td>\n",
       "    </tr>\n",
       "    <tr>\n",
       "      <th>1</th>\n",
       "      <td>100</td>\n",
       "      <td>Computer_Vision</td>\n",
       "      <td>Y</td>\n",
       "      <td>Richard Szeliski</td>\n",
       "      <td>2011</td>\n",
       "      <td>http://link.springer.com/openurl?genre=book&amp;is...</td>\n",
       "    </tr>\n",
       "  </tbody>\n",
       "</table>\n",
       "</div>"
      ],
      "text/plain": [
       "   S.No.       Book_Title Download(Y/N)            Author Edition  \\\n",
       "0     56   Microeconomics             y      Peter Dorman    2014   \n",
       "1    100  Computer_Vision             Y  Richard Szeliski    2011   \n",
       "\n",
       "                                             OpenURL  \n",
       "0  http://link.springer.com/openurl?genre=book&is...  \n",
       "1  http://link.springer.com/openurl?genre=book&is...  "
      ]
     },
     "execution_count": 47,
     "metadata": {},
     "output_type": "execute_result"
    }
   ],
   "source": [
    "output_df = download_df\n",
    "output_df = download_df.reset_index(drop=True)\n",
    "output_df\n"
   ]
  },
  {
   "cell_type": "code",
   "execution_count": 48,
   "metadata": {},
   "outputs": [
    {
     "data": {
      "text/plain": [
       "'output-04-29-2020_11-07-12_PM.csv'"
      ]
     },
     "execution_count": 48,
     "metadata": {},
     "output_type": "execute_result"
    }
   ],
   "source": [
    "from datetime import datetime\n",
    "\n",
    "fn_output = \"output-\" + datetime.now().strftime(\"%m-%d-%Y_%I-%M-%S_%p\") + '.csv'\n",
    "fn_output"
   ]
  },
  {
   "cell_type": "markdown",
   "metadata": {},
   "source": [
    "## Function to show progress of download"
   ]
  },
  {
   "cell_type": "code",
   "execution_count": null,
   "metadata": {
    "collapsed": true
   },
   "outputs": [],
   "source": [
    "import progressbar\n",
    "import urllib.request\n",
    "\n",
    "\n",
    "pbar = None\n",
    "\n",
    "\n",
    "def show_progress(block_num, block_size, total_size):\n",
    "    global pbar\n",
    "    if pbar is None:\n",
    "        pbar = progressbar.ProgressBar(maxval=total_size).start()\n",
    "\n",
    "    downloaded = block_num * block_size\n",
    "    if downloaded < total_size:\n",
    "        pbar.update(downloaded)\n",
    "    else:\n",
    "        pbar.finish()\n",
    "        pbar = None\n",
    "\n",
    "\n",
    "#urllib.request.urlretrieve(model_url, model_file, show_progress)"
   ]
  },
  {
   "cell_type": "code",
   "execution_count": 50,
   "metadata": {},
   "outputs": [
    {
     "name": "stdout",
     "output_type": "stream",
     "text": [
      "Processing ====== 0 book title: Microeconomics /Users/G_office/Downloads/springer/Microeconomics.pdf\n"
     ]
    },
    {
     "name": "stderr",
     "output_type": "stream",
     "text": [
      "100% |########################################################################|\n",
      "100% |########################################################################|\n"
     ]
    },
    {
     "name": "stdout",
     "output_type": "stream",
     "text": [
      "Processing ====== 1 book title: Computer_Vision /Users/G_office/Downloads/springer/Computer_Vision.pdf\n"
     ]
    },
    {
     "name": "stderr",
     "output_type": "stream",
     "text": [
      "100% |########################################################################|\n"
     ]
    }
   ],
   "source": [
    "for index, row in output_df.iterrows():\n",
    "    #check for redirects\n",
    "    r = requests.get(row['OpenURL'])\n",
    "    pdf_url = getpdfepubUrl(r.url)[0]\n",
    "    fn_pdf = dest_path  +  row['Book_Title'] + '.pdf'\n",
    "    print(\"Processing ======\", index, \"book title:\" , row['Book_Title'] ,fn_pdf)\n",
    "    try:\n",
    "        urllib.request.urlretrieve(pdf_url, fn_pdf,show_progress)\n",
    "        output_df.loc[index,'pdf_status'] = fn_pdf\n",
    "    except Exception as e:\n",
    "        output_df.loc[index,'pdf_status'] = str(e)\n",
    "    epub_url = getpdfepubUrl(r.url)[1]\n",
    "    #fn_pdf = dest_path  +  row['Book_Title'] + '.pdf'\n",
    "    fn_epub = dest_path  +  row['Book_Title'] + '.epub'\n",
    "    try:\n",
    "        urllib.request.urlretrieve(epub_url, fn_epub, show_progress)\n",
    "        output_df.loc[index,'epub_status'] = fn_epub\n",
    "    except Exception as e:\n",
    "        output_df.loc[index,'epub_status'] = str(e)\n",
    "\n",
    "\n",
    "output_df.to_csv(open(fn_output,'w'),index=False)"
   ]
  },
  {
   "cell_type": "code",
   "execution_count": null,
   "metadata": {
    "collapsed": true
   },
   "outputs": [],
   "source": []
  }
 ],
 "metadata": {
  "colab": {
   "collapsed_sections": [],
   "name": "pdfmobi.ipynb",
   "provenance": []
  },
  "kernelspec": {
   "display_name": "Python 3",
   "language": "python",
   "name": "python3"
  },
  "language_info": {
   "codemirror_mode": {
    "name": "ipython",
    "version": 3
   },
   "file_extension": ".py",
   "mimetype": "text/x-python",
   "name": "python",
   "nbconvert_exporter": "python",
   "pygments_lexer": "ipython3",
   "version": "3.6.1"
  }
 },
 "nbformat": 4,
 "nbformat_minor": 1
}
